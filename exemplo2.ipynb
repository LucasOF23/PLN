{
 "cells": [
  {
   "cell_type": "code",
   "execution_count": 1,
   "id": "67c3d54b",
   "metadata": {},
   "outputs": [
    {
     "name": "stderr",
     "output_type": "stream",
     "text": [
      "[nltk_data] Downloading package punkt to /home/lucas_of/nltk_data...\n",
      "[nltk_data]   Package punkt is already up-to-date!\n",
      "[nltk_data] Downloading package punkt_tab to\n",
      "[nltk_data]     /home/lucas_of/nltk_data...\n",
      "[nltk_data]   Package punkt_tab is already up-to-date!\n",
      "[nltk_data] Downloading package stopwords to\n",
      "[nltk_data]     /home/lucas_of/nltk_data...\n",
      "[nltk_data]   Package stopwords is already up-to-date!\n",
      "[nltk_data] Downloading package rslp to /home/lucas_of/nltk_data...\n",
      "[nltk_data]   Package rslp is already up-to-date!\n"
     ]
    },
    {
     "name": "stdout",
     "output_type": "stream",
     "text": [
      "Dados Negativos: |██████████████████████████████████████████████████| 100.0% Complete\n",
      "Dados Positivos: |██████████████████████████████████████████████████| 100.0% Complete\n",
      "0.463\n",
      "0.705\n"
     ]
    }
   ],
   "source": [
    "from lexico import Lexico\n",
    "from Modules.utils import progressBar\n",
    "import nltk\n",
    "import pandas as pd\n",
    "\n",
    "lexico = Lexico()\n",
    "\n",
    "#resposta = lexico.classic_classification(\"Matou uma criança\")\n",
    "#print(resposta)\n",
    "\n",
    "f_neg = open(\"books_pt_neg\", \"r\", encoding=\"utf-8\")\n",
    "f_pos = open(\"books_pt_pos\", \"r\", encoding=\"utf-8\")\n",
    "\n",
    "#print(df)\n",
    "\n",
    "neg = 0\n",
    "pos = 0\n",
    "\n",
    "tot_neg = 0\n",
    "tot_pos = 0\n",
    "\n",
    "line = f_neg.readline()\n",
    "for i in progressBar(range(0, 1000), prefix = 'Dados Negativos:', suffix = 'Complete', length = 50):\n",
    "    classification = lexico.classic_classification(line)\n",
    "\n",
    "    tot_neg += 1\n",
    "    #print(tot_neg)\n",
    "\n",
    "    #print(classification)\n",
    "\n",
    "    if(classification == \"Negativo\"):\n",
    "        neg +=1\n",
    "\n",
    "    line = f_neg.readline()\n",
    "\n",
    "\n",
    "line = f_pos.readline()\n",
    "for i in progressBar(range(0, 1000), prefix = 'Dados Positivos:', suffix = 'Complete', length = 50):\n",
    "    classification = lexico.classic_classification(line)\n",
    "\n",
    "    tot_pos += 1\n",
    "    #print(tot_pos)\n",
    "\n",
    "    #print(classification)\n",
    "\n",
    "    if(classification == \"Positivo\"):\n",
    "        pos +=1\n",
    "\n",
    "    line = f_pos.readline()\n",
    "\n",
    "print(neg / tot_neg)\n",
    "print(pos / tot_pos)"
   ]
  }
 ],
 "metadata": {
  "kernelspec": {
   "display_name": "NLP",
   "language": "python",
   "name": "python3"
  },
  "language_info": {
   "codemirror_mode": {
    "name": "ipython",
    "version": 3
   },
   "file_extension": ".py",
   "mimetype": "text/x-python",
   "name": "python",
   "nbconvert_exporter": "python",
   "pygments_lexer": "ipython3",
   "version": "3.12.9"
  }
 },
 "nbformat": 4,
 "nbformat_minor": 5
}
