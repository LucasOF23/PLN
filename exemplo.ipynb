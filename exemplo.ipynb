{
 "cells": [
  {
   "cell_type": "code",
   "execution_count": null,
   "id": "c4be47f0",
   "metadata": {},
   "outputs": [
    {
     "name": "stdout",
     "output_type": "stream",
     "text": [
      "Progress: |██████████████████████████████████████████████████| 100.0% Complete\n",
      "290\n",
      "95\n",
      "113\n",
      "82\n",
      "0.35370167093547994\n"
     ]
    }
   ],
   "source": [
    "from site.lexico import Lexico\n",
    "from site.Modules.utils import progressBar\n",
    "import nltk\n",
    "import pandas as pd\n",
    "\n",
    "lexico = Lexico(\"LIWC.txt\")\n",
    "\n",
    "#resposta = lexico.classic_classification(\"Matou uma criança\")\n",
    "#print(resposta)\n",
    "\n",
    "df = pd.read_csv(\"tw_pt.csv\")\n",
    "#print(df)\n",
    "\n",
    "total = len(df)\n",
    "hits = 0\n",
    "hits_e = 0\n",
    "hits_n = 0\n",
    "hits_p = 0\n",
    "\n",
    "#total = 100 #O dataframe inteiro demora bastante\n",
    "inicio = 0\n",
    "step = 10\n",
    "\n",
    "for i in progressBar(range(inicio, inicio + total, step), prefix = 'Progress:', suffix = 'Complete', length = 50):\n",
    "    classification = lexico.classic_classification(df['Text'][i])\n",
    "\n",
    "    #print(classification)\n",
    "\n",
    "    #print(df['Classificacao'][i])\n",
    "\n",
    "    if(classification == df['Classificacao'][i]):\n",
    "        if(classification == \"Negativo\"):\n",
    "            hits_n += 1\n",
    "        if(classification == \"Positivo\"):\n",
    "            hits_p += 1\n",
    "        if(classification == \"Neutro\"):\n",
    "            hits_e += 1\n",
    "        hits += 1\n",
    "\n",
    "accuracy = hits / (total / step)\n",
    "print(hits)\n",
    "print(hits_p)\n",
    "print(hits_n)\n",
    "print(hits_e)\n",
    "print(accuracy)"
   ]
  }
 ],
 "metadata": {
  "kernelspec": {
   "display_name": "NLP",
   "language": "python",
   "name": "python3"
  },
  "language_info": {
   "codemirror_mode": {
    "name": "ipython",
    "version": 3
   },
   "file_extension": ".py",
   "mimetype": "text/x-python",
   "name": "python",
   "nbconvert_exporter": "python",
   "pygments_lexer": "ipython3",
   "version": "3.12.9"
  }
 },
 "nbformat": 4,
 "nbformat_minor": 5
}
