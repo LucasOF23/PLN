{
 "cells": [
  {
   "cell_type": "code",
   "execution_count": null,
   "id": "c4be47f0",
   "metadata": {},
   "outputs": [
    {
     "name": "stdout",
     "output_type": "stream",
     "text": [
      "['/home/lucas_of/nltk_data', '/home/lucas_of/anaconda3/envs/NLP/nltk_data', '/home/lucas_of/anaconda3/envs/NLP/share/nltk_data', '/home/lucas_of/anaconda3/envs/NLP/lib/nltk_data', '/usr/share/nltk_data', '/usr/local/share/nltk_data', '/usr/lib/nltk_data', '/usr/local/lib/nltk_data']\n"
     ]
    }
   ],
   "source": [
    "from lexico import Lexico\n",
    "from Modules.lemmatizer import Lemmatizer\n",
    "import nltk\n",
    "\n",
    "lexico = Lexico(\"LIWC.txt\")\n",
    "\n",
    "#lemmatizer = Lemmatizer()\n",
    "#print(lemmatizer.lemmatize_text(\"pulava, baterão, correram\"))\n",
    "\n",
    "#print(lexico.check_intensity_token(\"muito\"))\n",
    "\n",
    "lexico.classify_text(\"Hoje foi um dia triste.\")"
   ]
  }
 ],
 "metadata": {
  "kernelspec": {
   "display_name": "NLP",
   "language": "python",
   "name": "python3"
  },
  "language_info": {
   "codemirror_mode": {
    "name": "ipython",
    "version": 3
   },
   "file_extension": ".py",
   "mimetype": "text/x-python",
   "name": "python",
   "nbconvert_exporter": "python",
   "pygments_lexer": "ipython3",
   "version": "3.12.9"
  }
 },
 "nbformat": 4,
 "nbformat_minor": 5
}
