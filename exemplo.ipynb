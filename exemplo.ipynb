{
 "cells": [
  {
   "cell_type": "code",
   "execution_count": 6,
   "id": "c4be47f0",
   "metadata": {},
   "outputs": [
    {
     "name": "stdout",
     "output_type": "stream",
     "text": [
      "Sentence Tokenized:\n",
      "['encerramos', 'as', 'inscricoes']\n",
      "Stopwords Removed:\n",
      "['encerramos']\n",
      "Classification Values:\n",
      "[-1]\n",
      "Negative\n"
     ]
    }
   ],
   "source": [
    "from lexico import Lexico\n",
    "from Modules.lemmatizer import Lemmatizer\n",
    "import nltk\n",
    "\n",
    "lexico = Lexico(\"LIWC.txt\")\n",
    "\n",
    "#lemmatizer = Lemmatizer()\n",
    "#print(lemmatizer.lemmatize_text(\"pulava, baterão, correram\"))\n",
    "\n",
    "#print(lexico.check_intensity_token(\"muito\"))\n",
    "\n",
    "lexico.classify_text(\"Encerramos as inscricoes\")"
   ]
  }
 ],
 "metadata": {
  "kernelspec": {
   "display_name": "NLP",
   "language": "python",
   "name": "python3"
  },
  "language_info": {
   "codemirror_mode": {
    "name": "ipython",
    "version": 3
   },
   "file_extension": ".py",
   "mimetype": "text/x-python",
   "name": "python",
   "nbconvert_exporter": "python",
   "pygments_lexer": "ipython3",
   "version": "3.12.9"
  }
 },
 "nbformat": 4,
 "nbformat_minor": 5
}
